{
  "cells": [
    {
      "cell_type": "markdown",
      "metadata": {
        "id": "view-in-github",
        "colab_type": "text"
      },
      "source": [
        "<a href=\"https://colab.research.google.com/github/autumnjohnson/deepul/blob/hw3/hw3_solutions.ipynb\" target=\"_parent\"><img src=\"https://colab.research.google.com/assets/colab-badge.svg\" alt=\"Open In Colab\"/></a>"
      ]
    },
    {
      "cell_type": "markdown",
      "metadata": {
        "id": "VtqwhK9q9D-h"
      },
      "source": [
        "# Getting Started\n",
        "\n",
        "## Overview\n",
        "This semester, all homeworks will be conducted through Google Colab notebooks. All code for the homework assignment will be written and run in this notebook. Running in Colab will automatically provide a GPU, but you may also run this notebook locally by following [these instructions](https://research.google.com/colaboratory/local-runtimes.html) if you wish to use your own GPU.\n",
        "\n",
        "You will save images in the notebooks to use and fill out a given LaTeX template which will be submitted to Gradescope, along with your notebook code.\n",
        "\n",
        "## Using Colab\n",
        "On the left-hand side, you can click the different icons to see a Table of Contents of the assignment, as well as local files accessible through the notebook.\n",
        "\n",
        "Make sure to go to **Runtime -> Change runtime type** and select **GPU** as the hardware accelerator. This allows you to use a GPU. Run the cells below to get started on the assignment. Note that a session is open for a maximum of 12 hours, and using too much GPU compute may result in restricted access for a short period of time. Please start the homework early so you have ample time to work.\n",
        "\n",
        "**If you loaded this notebook from clicking \"Open in Colab\" from github, you will need to save it to your own Google Drive to keep your work.**\n",
        "\n",
        "## General Tips\n",
        "In each homework problem, you will implement a GAN model and run it on a dataset. We provide the expected outputs to help as a sanity check.\n",
        "\n",
        "Feel free to print whatever output (e.g. debugging code, training code, etc) you want, as the graded submission will be the submitted pdf with images.\n",
        "\n",
        "After you complete the assignment, download all of the image outputted in the results/ folder and upload them to the figure folder in the given latex template.\n",
        "\n",
        "Run the cells below to download and load up the starter code."
      ]
    },
    {
      "cell_type": "code",
      "execution_count": null,
      "metadata": {
        "id": "sfd-DkFA9AWI",
        "outputId": "55cfd4f5-0b8d-42d0-bcf0-fd49c4d08078",
        "colab": {
          "base_uri": "https://localhost:8080/",
          "height": 463
        }
      },
      "outputs": [
        {
          "output_type": "stream",
          "name": "stdout",
          "text": [
            "Cloning into 'deepul'...\n",
            "remote: Enumerating objects: 163, done.\u001b[K\n",
            "remote: Counting objects: 100% (147/147), done.\u001b[K\n",
            "remote: Compressing objects: 100% (108/108), done.\u001b[K\n",
            "remote: Total 163 (delta 41), reused 128 (delta 34), pack-reused 16\u001b[K\n",
            "Receiving objects: 100% (163/163), 77.87 MiB | 26.16 MiB/s, done.\n",
            "Resolving deltas: 100% (41/41), done.\n",
            "Processing ./deepul\n",
            "  Preparing metadata (setup.py) ... \u001b[?25l\u001b[?25hdone\n",
            "Building wheels for collected packages: deepul\n",
            "  Building wheel for deepul (setup.py) ... \u001b[?25l\u001b[?25hdone\n",
            "  Created wheel for deepul: filename=deepul-0.1.0-py3-none-any.whl size=20141 sha256=01c8d30aadd61309bd95bc61436e9197697b314e7bdc2435afd5b13408c952fa\n",
            "  Stored in directory: /tmp/pip-ephem-wheel-cache-lzjabt5j/wheels/89/4d/b7/d666c1fdc2a51554c762f2cfe90dad1098871e7fea5c53eed4\n",
            "Successfully built deepul\n",
            "Installing collected packages: deepul\n",
            "  Attempting uninstall: deepul\n",
            "    Found existing installation: deepul 0.1.0\n",
            "    Uninstalling deepul-0.1.0:\n",
            "      Successfully uninstalled deepul-0.1.0\n",
            "Successfully installed deepul-0.1.0\n"
          ]
        },
        {
          "output_type": "display_data",
          "data": {
            "application/vnd.colab-display-data+json": {
              "pip_warning": {
                "packages": [
                  "deepul"
                ]
              },
              "id": "a80ae6ec7d4f4b48b82eba82cbc8ecdf"
            }
          },
          "metadata": {}
        }
      ],
      "source": [
        "!if [ -d deepul ]; then rm -Rf deepul; fi\n",
        "!git clone https://github.com/rll/deepul.git\n",
        "!pip install ./deepul"
      ]
    },
    {
      "cell_type": "code",
      "execution_count": 2,
      "metadata": {
        "id": "QSb6D-qQ9W7L"
      },
      "outputs": [],
      "source": [
        "from deepul.hw3_helper import *\n",
        "import deepul.pytorch_util as ptu\n",
        "import warnings\n",
        "warnings.filterwarnings('ignore')"
      ]
    },
    {
      "cell_type": "code",
      "execution_count": 3,
      "metadata": {
        "id": "HKw4PzHd6bQs"
      },
      "outputs": [],
      "source": [
        "ptu.set_gpu_mode(True)"
      ]
    },
    {
      "cell_type": "markdown",
      "metadata": {
        "id": "vYa4i0uxspaA"
      },
      "source": [
        "# Question 1: Warmup [20pt]\n",
        "\n",
        "In this question, we will train different variants of GANs on an easy 1D dataset.\n",
        "\n",
        "Execute the cell below to visualize our datasets."
      ]
    },
    {
      "cell_type": "code",
      "execution_count": 4,
      "metadata": {
        "id": "Fb5MioT8SZzN",
        "colab": {
          "base_uri": "https://localhost:8080/",
          "height": 430
        },
        "outputId": "d1dc2a20-a438-4528-aada-46429f508d18"
      },
      "outputs": [
        {
          "output_type": "display_data",
          "data": {
            "text/plain": [
              "<Figure size 640x480 with 1 Axes>"
            ],
            "image/png": "[encoded data removed]"
          },
          "metadata": {}
        }
      ],
      "source": [
        "visualize_q1_dataset()"
      ]
    },
    {
      "cell_type": "code",
      "execution_count": 5,
      "metadata": {
        "id": "osR7PW_NLRu-"
      },
      "outputs": [],
      "source": [
        "import numpy as np\n",
        "import matplotlib.pyplot as plt\n",
        "import torch\n",
        "import torch.nn as nn\n",
        "import torch.nn.functional as F\n",
        "import torch.utils.data as data\n",
        "import torch.optim as optim\n",
        "from scipy.stats import norm\n",
        "from tqdm import trange, tqdm_notebook"
      ]
    },
    {
      "cell_type": "markdown",
      "metadata": {
        "id": "WSOkSmHSL2c3"
      },
      "source": [
        "## Part 1(a)\n",
        "In this part, we'll train our generator and discriminator via the original minimax GAN objective:\n",
        "<insert GAN Objective here>\n",
        "$$min_{G} max_{D} \\mathbb{E}_{x \\sim p_{data}} [\\log D(x)] + \\mathbb{E}_{z \\sim p(z)}[\\log (1-D(G(z)))]$$\n",
        "\n",
        "Use an MLP for both your generator and your discriminator, and train until the generated distribution resembles the target distribution.\n",
        "* 3 layers\n",
        "* 128 hidden dim\n",
        "* LeakyReLU nonlinearities with negative_slope=0.2"
      ]
    },
    {
      "cell_type": "markdown",
      "metadata": {
        "id": "rKl7kyUPwPSJ"
      },
      "source": [
        "### Solution"
      ]
    },
    {
      "cell_type": "code",
      "metadata": {
        "id": "eh3X-3vqMm2X"
      },
      "source": [
        "def train(generator, critic, c_loss_fn, g_loss_fn, train_loader, g_optimizer, c_optimizer, n_critic=1, g_scheduler=None, c_scheduler=None, weight_clipping=None):\n",
        "    \"\"\"\n",
        "    generator:\n",
        "    critic: discriminator in 1ab, general model otherwise\n",
        "    loss_fn\n",
        "    train_loader: instance of DataLoader class\n",
        "    optimizer:\n",
        "    ncritic: how many critic gradient steps to do for every generator step\n",
        "    \"\"\"\n",
        "    g_losses, c_losses = [], []\n",
        "    generator.train()\n",
        "    critic.train()\n",
        "    for i, x in enumerate(train_loader):\n",
        "        x = x.to(device).float()\n",
        "        c_loss = c_loss_fn(generator, critic, x)\n",
        "        c_optimizer.zero_grad()\n",
        "        c_loss.backward()\n",
        "        c_optimizer.step()\n",
        "        c_losses.append(c_loss.item())\n",
        "        if weight_clipping is not None:\n",
        "            for param in critic.parameters():\n",
        "                param.data.clamp_(-weight_clipping, weight_clipping)\n",
        "\n",
        "        if i % n_critic == 0:  # generator step\n",
        "            g_loss = g_loss_fn(generator, critic, x)\n",
        "            g_optimizer.zero_grad()\n",
        "            g_loss.backward()\n",
        "            g_optimizer.step()\n",
        "            g_losses.append(g_loss.item())\n",
        "            if g_scheduler is not None:\n",
        "                g_scheduler.step()\n",
        "            if c_scheduler is not None:\n",
        "                c_scheduler.step()\n",
        "    return dict(g_losses=g_losses, c_losses=c_losses)\n",
        "\n",
        "def train_epochs(generator, critic, g_loss_fn, c_loss_fn, train_loader, train_args):\n",
        "    epochs, lr = train_args['epochs'], train_args['lr']\n",
        "    if 'optim_cls' in train_args:\n",
        "        g_optimizer = train_args['optim_cls'](generator.parameters(), lr=lr)\n",
        "        c_optimizer = train_args['optim_cls'](critic.parameters(), lr=lr)\n",
        "    else:\n",
        "        g_optimizer = optim.Adam(generator.parameters(), lr=lr, betas=(0, 0.9))\n",
        "        c_optimizer = optim.Adam(critic.parameters(), lr=lr, betas=(0, 0.9))\n",
        "\n",
        "    if train_args.get('lr_schedule', None) is not None:\n",
        "        g_scheduler = optim.lr_scheduler.LambdaLR(g_optimizer, train_args['lr_schedule'])\n",
        "        c_scheduler = optim.lr_scheduler.LambdaLR(c_optimizer, train_args['lr_schedule'])\n",
        "    else:\n",
        "        g_scheduler = None\n",
        "        c_scheduler = None\n",
        "\n",
        "    train_losses = dict()\n",
        "    for epoch in tqdm_notebook(range(epochs), desc='Epoch', leave=False):\n",
        "        generator.train()\n",
        "        critic.train()\n",
        "        train_loss = train(generator, critic, c_loss_fn, g_loss_fn, train_loader,\n",
        "                           g_optimizer, c_optimizer, n_critic=train_args.get('n_critic', 0),\n",
        "                           g_scheduler=g_scheduler, c_scheduler=c_scheduler,\n",
        "                           weight_clipping=train_args.get('weight_clipping', None))\n",
        "\n",
        "        for k in train_loss.keys():\n",
        "            if k not in train_losses:\n",
        "                train_losses[k] = []\n",
        "            train_losses[k].extend(train_loss[k])\n",
        "\n",
        "    if train_args.get('q1', False):  # q1, return the snapshots\n",
        "        final_snapshot = get_training_snapshot(generator, critic)\n",
        "        return [train_losses, *final_snapshot]\n",
        "    else:\n",
        "        return train_losses\n",
        "\n",
        "def get_training_snapshot(generator, critic, n_samples=5000):\n",
        "    generator.eval()\n",
        "    critic.eval()\n",
        "    xs = np.linspace(-1, 1, 1000)\n",
        "    samples = generator.sample(n_samples).detach().cpu().numpy()\n",
        "    critic_output = critic(torch.tensor(xs, device=device).float().unsqueeze(1)).detach().cpu().numpy()\n",
        "    return samples, xs, critic_output"
      ],
      "execution_count": 6,
      "outputs": []
    },
    {
      "cell_type": "code",
      "source": [
        "#https://pytorch.org/docs/stable/generated/torch.nn.LeakyReLU.html#torch.nn.LeakyReLU"
      ],
      "metadata": {
        "id": "osmzWA3nD3vm"
      },
      "execution_count": null,
      "outputs": []
    },
    {
      "cell_type": "code",
      "metadata": {
        "id": "m8wZDEKoMt3m"
      },
      "source": [
        "class MLP(nn.Module):\n",
        "    def __init__(self, input_size, n_hidden, hidden_size, output_size):\n",
        "        super().__init__()\n",
        "        layers = []\n",
        "        for _ in range(n_hidden):\n",
        "            layers.append(nn.Linear(input_size, hidden_size))\n",
        "            layers.append(nn.LeakyReLU(0.2))\n",
        "            input_size = hidden_size\n",
        "        layers.append(nn.Linear(hidden_size, output_size))\n",
        "        self.layers = nn.Sequential(*layers)\n",
        "\n",
        "    def forward(self, x):\n",
        "        return self.layers(x)\n",
        "\n",
        "class MLPGenerator(nn.Module):\n",
        "    def __init__(self, latent_dim, n_hidden, hidden_size, data_dim):\n",
        "        super().__init__()\n",
        "        layers = []\n",
        "        self.latent_dim = latent_dim\n",
        "        self.mlp = MLP(latent_dim, n_hidden, hidden_size, data_dim)\n",
        "        # self.log_scale = nn.Parameter(torch.zeros(data_dim), requires_grad=True)\n",
        "\n",
        "    def forward(self, z):\n",
        "        return torch.tanh(self.mlp(z))\n",
        "\n",
        "    def sample(self, n):\n",
        "        # n is the number of samples to return\n",
        "        z = torch.normal(torch.zeros(n, self.latent_dim), torch.ones(n, self.latent_dim)).to(device)\n",
        "        # z = ptu.normal(ptu.zeros(n, self.latent_dim), ptu.ones(n, self.latent_dim))\n",
        "        return self.forward(z)\n",
        "\n",
        "class MLPDiscriminator(nn.Module):\n",
        "    def __init__(self, latent_dim, n_hidden, hidden_size, data_dim):\n",
        "        super().__init__()\n",
        "        self.mlp = MLP(latent_dim, n_hidden, hidden_size, data_dim)\n",
        "\n",
        "    def forward(self, z):\n",
        "        return torch.sigmoid(self.mlp(z))"
      ],
      "execution_count": 7,
      "outputs": []
    },
    {
      "cell_type": "code",
      "execution_count": 21,
      "metadata": {
        "id": "pfyB3DFgKfA5"
      },
      "outputs": [],
      "source": [
        "def q1_a(train_data):\n",
        "    \"\"\"\n",
        "    train_data: An (20000, 1) numpy array of floats in [-1, 1]\n",
        "\n",
        "    Returns\n",
        "    - a (# of training iterations,) numpy array of discriminator losses evaluated every minibatch\n",
        "    - a numpy array of size (5000,) of samples drawn from your model at epoch #1\n",
        "    - a numpy array of size (1000,) linearly spaced from [-1, 1]; hint: np.linspace\n",
        "    - a numpy array of size (1000,), corresponding to the discriminator output (after sigmoid)\n",
        "        at each location in the previous array at epoch #1\n",
        "\n",
        "    - a numpy array of size (5000,) of samples drawn from your model at the end of training\n",
        "    - a numpy array of size (1000,) linearly spaced from [-1, 1]; hint: np.linspace\n",
        "    - a numpy array of size (1000,), corresponding to the discriminator output (after sigmoid)\n",
        "        at each location in the previous array at the end of training\n",
        "    \"\"\"\n",
        "    # Initialize variables\n",
        "    epochs = 10\n",
        "    batch_size = 128\n",
        "    lr = 1e-3\n",
        "    latent_dim = 128\n",
        "    negative_slope = 1e-2\n",
        "    num_samples = 5000\n",
        "    input_size = 1\n",
        "\n",
        "    # Load data\n",
        "    train_loader = DataLoader(train_data, batch_size=64, shuffle=True)\n",
        "\n",
        "    # Create models\n",
        "    g = MLPGenerator(1, 3, 128, 1).to(device)\n",
        "    c = MLPDiscriminator(1, 3, 128, 1).to(device)\n",
        "\n",
        "    # Create loss functions\n",
        "    def g_loss(generator, critic, x):\n",
        "        fake_data = generator.sample(x.shape[0])\n",
        "        return (1 - critic(fake_data)).log().mean()\n",
        "\n",
        "    def c_loss(generator, critic, x):\n",
        "        fake_data = generator.sample(x.shape[0])\n",
        "        return - (1 - critic(fake_data)).log().mean() - critic(x).log().mean()\n",
        "\n",
        "    # Train (one epoch)\n",
        "    #train_losses = train(model, train_loader, optimizer, g_loss)\n",
        "\n",
        "    # Train and test (all epochs)\n",
        "    train_losses, samples, xs, ys = train_epochs(g, c, g_loss, c_loss, train_loader, dict(epochs=epochs, lr=lr, n_critic=2, q1=True))\n",
        "    linspace = np.linspace(0, 1, num=1000)\n",
        "    samples_end = np.array(num_samples) # model.sample(num_samples)\n",
        "    discriminator_output = np.array(1000)\n",
        "\n",
        "    return  train_losses['c_losses'], samples, xs, ys, samples, xs, ys\n",
        "\n",
        "from torch.utils.data import DataLoader\n"
      ]
    },
    {
      "cell_type": "markdown",
      "metadata": {
        "id": "KLrFM7TQwZkC"
      },
      "source": [
        "### Results"
      ]
    },
    {
      "cell_type": "code",
      "execution_count": 22,
      "metadata": {
        "id": "icqjV8bEwfst",
        "colab": {
          "base_uri": "https://localhost:8080/",
          "height": 1000,
          "referenced_widgets": [
            "e9d16fa1022047a5a9028303948c0ff5",
            "98afa3f18d814812b91fee554d3cf4e1",
            "99f746f0f2eb4ec39175bb4f57c6b38c",
            "9dd3e4b68c5d4fa898c6ea065d022fe3",
            "da11c4c47592430d94a79b84059bf7cf",
            "5e69cb7f7854443ab3b1344d25b151c6",
            "1cc1b98449a746d794568f85a9c57784",
            "5d61fcbb58034b2bab8b1e226954b13d",
            "e20fd17bb59d4dd38b8260a7da9f890c",
            "49bf327dbfb34a0fbb449b20c6a7617d",
            "f9e8d21fed3f45a1a90e6e7a54fc49fe"
          ]
        },
        "outputId": "c1069a36-c94b-4a2e-953d-d4278aad0643"
      },
      "outputs": [
        {
          "output_type": "display_data",
          "data": {
            "text/plain": [
              "Epoch:   0%|          | 0/10 [00:00<?, ?it/s]"
            ],
            "application/vnd.jupyter.widget-view+json": {
              "version_major": 2,
              "version_minor": 0,
              "model_id": "e9d16fa1022047a5a9028303948c0ff5"
            }
          },
          "metadata": {}
        },
        {
          "output_type": "display_data",
          "data": {
            "text/plain": [
              "<Figure size 640x480 with 1 Axes>"
            ],
            "image/png": "[encoded data removed]"
          },
          "metadata": {}
        },
        {
          "output_type": "display_data",
          "data": {
            "text/plain": [
              "<Figure size 640x480 with 1 Axes>"
            ],
            "image/png": "[encoded data removed]"
          },
          "metadata": {}
        },
        {
          "output_type": "display_data",
          "data": {
            "text/plain": [
              "<Figure size 640x480 with 1 Axes>"
            ],
            "image/png": "[encoded data removed]"
          },
          "metadata": {}
        }
      ],
      "source": [
        "q1_save_results('a', q1_a)"
      ]
    },
    {
      "cell_type": "markdown",
      "metadata": {
        "id": "2x4hfHRbZrDT"
      },
      "source": [
        "## Part 1(b)\n",
        "Here, we'll use the non-saturating formulation of the GAN objective. Now, we have two separate objectives:\n",
        "$$L^{(D)} = \\mathbb{E}_{x \\sim p_{data}} [\\log D(x)] + \\mathbb{E}_{z \\sim p(z)}[\\log (1-D(G(z)))]$$\n",
        "$$L^{(G)} = - \\mathbb{E}_{z \\sim p(z)} \\log(D(G(z)))$$"
      ]
    },
    {
      "cell_type": "markdown",
      "metadata": {
        "id": "_Uun1MzfwpuC"
      },
      "source": [
        " ### Solution"
      ]
    },
    {
      "cell_type": "code",
      "execution_count": 18,
      "metadata": {
        "id": "MJeEgn6zZst0"
      },
      "outputs": [],
      "source": [
        "def q1_b(train_data):\n",
        "    \"\"\"\n",
        "    train_data: An (20000, 1) numpy array of floats in [-1, 1]\n",
        "\n",
        "    Returns\n",
        "    - a (# of training iterations,) numpy array of discriminator losses evaluated every minibatch\n",
        "    - a numpy array of size (5000,) of samples drawn from your model at epoch #1\n",
        "    - a numpy array of size (100,) linearly spaced from [-1, 1]; hint: np.linspace\n",
        "    - a numpy array of size (100,), corresponding to the discriminator output (after sigmoid)\n",
        "        at each location in the previous array at epoch #1\n",
        "\n",
        "    - a numpy array of size (5000,) of samples drawn from your model at the end of training\n",
        "    - a numpy array of size (1000,) linearly spaced from [-1, 1]; hint: np.linspace\n",
        "    - a numpy array of size (1000,), corresponding to the discriminator output (after sigmoid)\n",
        "        at each location in the previous array at the end of training\n",
        "    \"\"\"\n",
        "    # create data loaders\n",
        "    train_loader = data.DataLoader(train_data, batch_size=64, shuffle=True)\n",
        "\n",
        "    # model\n",
        "    g = MLPGenerator(1, 3, 128, 1).to(device)\n",
        "    c = MLPDiscriminator(1, 3, 128, 1).to(device)\n",
        "\n",
        "    # loss functions\n",
        "    def g_loss(generator, critic, x):\n",
        "        fake_data = generator.sample(x.shape[0])\n",
        "        return (1 - critic(fake_data)).log().mean()\n",
        "\n",
        "    def c_loss(generator, critic, x):\n",
        "        fake_data = generator.sample(x.shape[0])\n",
        "        return - (1 - critic(fake_data)).log().mean() - critic(x).log().mean()\n",
        "\n",
        "    # train\n",
        "    train_losses, samples, xs, ys = train_epochs(g, c, g_loss, c_loss, train_loader, dict(epochs=25, lr=1e-4, n_critic=2, q1=True))\n",
        "\n",
        "    return train_losses['c_losses'], samples, xs, ys, samples, xs, ys"
      ]
    },
    {
      "cell_type": "markdown",
      "metadata": {
        "id": "b0VSrZWzwrzT"
      },
      "source": [
        " ### Results"
      ]
    },
    {
      "cell_type": "code",
      "execution_count": 19,
      "metadata": {
        "id": "xfv-DeVKwtXl",
        "colab": {
          "base_uri": "https://localhost:8080/",
          "height": 1000,
          "referenced_widgets": [
            "d3f3d8a37c6c4f32b2f27eba902817af",
            "9cab909c33e34bb4b08a9585c18802e8",
            "a12f52e5469b4e6fb6d84856cc298982",
            "7404e72f830e4e38b8520270221f9c83",
            "cb54a519d2a441afa645cfee5387efe7",
            "a355d9b6595b4dd4b0a378163eb58bac",
            "4539f970b5c04d409a8eeb02fa1b1565",
            "11630ef8a0554669a86dbf411917bd25",
            "fd67a3cdab69416dad48effa491163eb",
            "48ecfa2388c24e9e9379c3aaee4af748",
            "c41b8a127e1c4d01949096568f3fc1c9"
          ]
        },
        "outputId": "cc9a8d9f-fc15-443b-dcf1-ed693f63b20a"
      },
      "outputs": [
        {
          "output_type": "display_data",
          "data": {
            "text/plain": [
              "Epoch:   0%|          | 0/25 [00:00<?, ?it/s]"
            ],
            "application/vnd.jupyter.widget-view+json": {
              "version_major": 2,
              "version_minor": 0,
              "model_id": "d3f3d8a37c6c4f32b2f27eba902817af"
            }
          },
          "metadata": {}
        },
        {
          "output_type": "display_data",
          "data": {
            "text/plain": [
              "<Figure size 640x480 with 1 Axes>"
            ],
            "image/png": "[encoded data removed]"
          },
          "metadata": {}
        },
        {
          "output_type": "display_data",
          "data": {
            "text/plain": [
              "<Figure size 640x480 with 1 Axes>"
            ],
            "image/png": "[encoded data removed]"
          },
          "metadata": {}
        },
        {
          "output_type": "display_data",
          "data": {
            "text/plain": [
              "<Figure size 640x480 with 1 Axes>"
            ],
            "image/png": "[encoded data removed]"
          },
          "metadata": {}
        }
      ],
      "source": [
        "q1_save_results('b', q1_b)"
      ]
    },
    {
      "cell_type": "markdown",
      "metadata": {
        "id": "sBESzChmEfcF"
      },
      "source": [
        "# Question 2: GANs on CIFAR-10 [35pt]"
      ]
    },
    {
      "cell_type": "markdown",
      "metadata": {
        "id": "ZLRdpUxy5jc0"
      },
      "source": [
        "In this exercise, you will train a GAN on CIFAR-10. Execute the cell below to visualize the dataset."
      ]
    },
    {
      "cell_type": "code",
      "execution_count": null,
      "metadata": {
        "id": "-WbafudL5mnz"
      },
      "outputs": [],
      "source": [
        "visualize_q2_data()"
      ]
    },
    {
      "cell_type": "markdown",
      "metadata": {
        "id": "vIYRnVafEkcd"
      },
      "source": [
        " We'll use the CIFAR-10 architecture from the [SN-GAN paper](https://arxiv.org/pdf/1802.05957.pdf) (see page 17), with $z \\in \\mathbb R ^{128}$, with $z \\sim \\mathcal N (0, I_{128})$. Instead of upsampling via transposed convolutions and downsampling via pooling or striding, we'll use these DepthToSpace and SpaceToDepth methods for changing the spatial configuration of our hidden states.\n",
        "\n",
        "```\n",
        "class DepthToSpace(nn.Module):\n",
        "    def __init__(self, block_size):\n",
        "        super().__init__()\n",
        "        self.block_size = block_size\n",
        "        self.block_size_sq = block_size * block_size\n",
        "\n",
        "    def forward(self, input):\n",
        "        output = input.permute(0, 2, 3, 1)\n",
        "        (batch_size, d_height, d_width, d_depth) = output.size()\n",
        "        s_depth = int(d_depth / self.block_size_sq)\n",
        "        s_width = int(d_width * self.block_size)\n",
        "        s_height = int(d_height * self.block_size)\n",
        "        t_1 = output.reshape(batch_size, d_height, d_width, self.block_size_sq, s_depth)\n",
        "        spl = t_1.split(self.block_size, 3)\n",
        "        stack = [t_t.reshape(batch_size, d_height, s_width, s_depth) for t_t in spl]\n",
        "        output = torch.stack(stack, 0).transpose(0, 1).permute(0, 2, 1, 3, 4).reshape(batch_size, s_height, s_width,\n",
        "                                                                                      s_depth)\n",
        "        output = output.permute(0, 3, 1, 2)\n",
        "        return output\n",
        "\n",
        "\n",
        "class SpaceToDepth(nn.Module):\n",
        "    def __init__(self, block_size):\n",
        "        super().__init__()\n",
        "        self.block_size = block_size\n",
        "        self.block_size_sq = block_size * block_size\n",
        "\n",
        "    def forward(self, input):\n",
        "        output = input.permute(0, 2, 3, 1)\n",
        "        (batch_size, s_height, s_width, s_depth) = output.size()\n",
        "        d_depth = s_depth * self.block_size_sq\n",
        "        d_width = int(s_width / self.block_size)\n",
        "        d_height = int(s_height / self.block_size)\n",
        "        t_1 = output.split(self.block_size, 2)\n",
        "        stack = [t_t.reshape(batch_size, d_height, d_depth) for t_t in t_1]\n",
        "        output = torch.stack(stack, 1)\n",
        "        output = output.permute(0, 2, 1, 3)\n",
        "        output = output.permute(0, 3, 1, 2)\n",
        "        return output\n",
        "\n",
        "# Spatial Upsampling with Nearest Neighbors\n",
        "Upsample_Conv2d(in_dim, out_dim, kernel_size=(3, 3), stride=1, padding=1):\n",
        "    x = torch.cat([x, x, x, x], dim=1)\n",
        "    DepthToSpace(block_size=2)\n",
        "    Conv2d(in_dim, out_dim, kernel_size, stride=stride, padding=padding)\n",
        "\n",
        "\n",
        "# Spatial Downsampling with Spatial Mean Pooling\n",
        "Downsample_Conv2d(in_dim, out_dim, kernel_size=(3, 3), stride=1, padding=1):\n",
        "        SpaceToDepth(2)\n",
        "        torch.sum(x.chunk(4, dim=1)) / 4.0\n",
        "        nn.Conv2d(in_dim, out_dim, kernel_size,\n",
        "                              stride=stride, padding=padding, bias=bias)\n",
        "```\n",
        "\n",
        "Here's pseudocode for how we'll implement a ResBlockUp, used in the generator:\n",
        "\n",
        "```\n",
        "ResnetBlockUp(x, in_dim, kernel_size=(3, 3), n_filters=256):\n",
        "    _x = x\n",
        "    _x = nn.BatchNorm2d(in_dim)(_x)\n",
        "    _x = nn.ReLU()(_x)\n",
        "    _x = nn.Conv2d(in_dim, n_filters, kernel_size, padding=1)(_x)\n",
        "    _x = nn.BatchNorm2d(n_filters)(_x)\n",
        "    _x = nn.ReLU()(_x)\n",
        "    residual = Upsample_Conv2d(n_filters, n_filters, kernel_size, padding=1)(_x)\n",
        "    shortcut = Upsample_Conv2d(in_dim, n_filters, kernel_size=(1, 1), padding=0)(x)\n",
        "    return residual + shortcut\n",
        "```\n",
        "The ResBlockDown module is similar, except it uses Downsample_Conv2d and omits the BatchNorm.\n",
        "\n",
        "Finally, here's the architecture for the generator:\n",
        "```\n",
        "def Generator(*, n_samples=1024, n_filters=128):\n",
        "    z = Normal(0, 1)([n_samples, 128])\n",
        "    nn.Linear(128, 4*4*256)\n",
        "    reshape output of linear layer\n",
        "    ResnetBlockUp(in_dim=256, n_filters=n_filters),\n",
        "    ResnetBlockUp(in_dim=n_filters, n_filters=n_filters),\n",
        "    ResnetBlockUp(in_dim=n_filters, n_filters=n_filters),\n",
        "    nn.BatchNorm2d(n_filters),\n",
        "    nn.ReLU(),\n",
        "    nn.Conv2d(n_filters, 3, kernel_size=(3, 3), padding=1),\n",
        "    nn.Tanh()\n",
        "```\n",
        "The discriminator (no BatchNorm!).\n",
        "```\n",
        "def Discriminator(*):\n",
        "    def __init__(self, n_filters=128):\n",
        "        ResnetBlockDown(3, n_filters=n_filters),\n",
        "        ResnetBlockDown(128, n_filters=n_filters),\n",
        "        ResBlock(n_filters, n_filters=n_filters),\n",
        "        ResBlock(n_filters, n_filters=n_filters),\n",
        "        nn.ReLU()\n",
        "        global sum pooling\n",
        "        nn.Linear(128, 1)\n",
        "```\n",
        "\n",
        "\n",
        "**Hyperparameters**\n",
        "\n",
        "We'll implement [WGAN-GP](https://arxiv.org/abs/1704.00028), which uses a gradient penalty to regularize the discriminator. Use the Adam optimizer with $\\alpha = 2e-4$, $\\beta_1 = 0$, $\\beta_2 = 0.9$, $\\lambda = 10$, $n_{critic} = 5$. Use a batch size of 256 and n_filters=128 within the ResBlocks. Train for at least 25000 gradient steps, with the learning rate linearly annealed to 0 over training.\n",
        "\n",
        "**You will provide the following deliverables**\n",
        "1. Inception score (CIFAR-10 version) of the final model. We provide a utility that will automatically do this for you.\n",
        "2. Fréchet inception distance (bonus, 5pts)\n",
        "3. Discriminator loss across training\n",
        "4. 100 samples."
      ]
    },
    {
      "cell_type": "markdown",
      "metadata": {
        "id": "WlY4YYyedBlR"
      },
      "source": [
        "## Solution"
      ]
    },
    {
      "cell_type": "markdown",
      "metadata": {
        "id": "Zze30tQO7IjK"
      },
      "source": [
        " ### Models"
      ]
    },
    {
      "cell_type": "code",
      "execution_count": null,
      "metadata": {
        "id": "e8UX3mGtdB1A"
      },
      "outputs": [],
      "source": [
        "def q2(train_data):\n",
        "    \"\"\"\n",
        "    train_data: An (n_train, 3, 32, 32) numpy array of CIFAR-10 images with values in [0, 1]\n",
        "\n",
        "    Returns\n",
        "    - a (# of training iterations,) numpy array of WGAN critic train losses evaluated every minibatch\n",
        "    - a (1000, 32, 32, 3) numpy array of samples from your model in [0, 1].\n",
        "        The first 100 will be displayed, and the rest will be used to calculate the Inception score.\n",
        "    \"\"\"\n",
        "\n",
        "    \"\"\" YOUR CODE HERE \"\"\"\n",
        "\n",
        "    return losses, samples"
      ]
    },
    {
      "cell_type": "markdown",
      "metadata": {
        "id": "UydRmPpLdEar"
      },
      "source": [
        "## Results"
      ]
    },
    {
      "cell_type": "code",
      "execution_count": null,
      "metadata": {
        "id": "uRgINbsJdbPH"
      },
      "outputs": [],
      "source": [
        "q2_save_results(q2)"
      ]
    },
    {
      "cell_type": "markdown",
      "metadata": {
        "id": "K4m4QlhByAkb"
      },
      "source": [
        "# Question 3 : Quantization with GANS [40pt]\n",
        "In this question, you'll train a variants of the VQGAN model to learn a mapping between image and a discrete codebook. We will do this on the CIFAR10 dataset."
      ]
    },
    {
      "cell_type": "markdown",
      "metadata": {
        "id": "mpHgSXCtyAkb"
      },
      "source": [
        "## Part a: Vanilla VQGAN [25]\n",
        "[VQGAN](https://github.com/CompVis/taming-transformers) extends the ideas from VQVAE by adding an additional GAN loss. Review HW 2 for more details on VQVAE, and may use your code from HW 2 (or HW2 solutions) to help with this question. Conceptually, the training procedure is the same as VQVAE, but with the addition of a discriminator network and its training.\n",
        "\n",
        "Following the original VQGAN paper, we will use a patch-based discriminator. Split the image into 8x8 patches, which will be then fed into the discriminator. For the discrimiator you can use an architecture similar to the one used in the previous questions.\n",
        "```\n",
        "def Discriminator(*, n_filters=128):\n",
        "    split to 8x8 patches\n",
        "    ResnetBlockDown(3, n_filters=n_filters),\n",
        "    ResnetBlockDown(128, n_filters=n_filters),\n",
        "    ResBlock(n_filters, n_filters=n_filters),\n",
        "    ResBlock(n_filters, n_filters=n_filters),\n",
        "    nn.ReLU()\n",
        "    global sum pooling\n",
        "    nn.Linear(128, 1)\n",
        "```\n",
        "\n",
        "**Loss function**\n",
        "We will use the loss function of\n",
        "\n",
        "$L = L_{VQ} + 0.1 L_{GAN} + 0.5 L_{perceptual} + L_2$\n",
        "\n",
        "Where $L_{VQ}$ is the VQ objective, $L_{GAN}$ is the GAN loss, $L_{perceptual}$ is the perceptual loss.\n",
        "\n",
        "For pytorch users, we provide the LPIPS loss from the original taming transformers paper ([found here](https://github.com/CompVis/taming-transformers/blob/master/taming/modules/losses/lpips.py)). An example of using the LPIPS loss is found below. If you are using a different framework, feel free to use any off the shelf code, just make sure to cite where you take it from.\n",
        "\n",
        "Instead of using the adaptive weight on the GAN loss, we will use a fixed weight of 0.1.\n",
        "* train for at least 15 epochs\n",
        "* use a codebook size of 1024\n",
        "* use Adam with betas=(0.5, 0.9) and 0 weight decay for both optimizers\n",
        "* use the non-saturating formulation of the GAN objective.\n",
        "\n",
        "**You will provide the following deliverables**\n",
        "1. Final L2 reconstruction loss\n",
        "2. Discriminator loss across training\n",
        "3. $L_{perceptual}$ loss across training\n",
        "4. Training l2 loss across training\n",
        "5. Validation l2 reconstruction loss across training, evaluated at the end of every epoch\n",
        "6. 100 reconstructions of the validation set."
      ]
    },
    {
      "cell_type": "code",
      "execution_count": null,
      "metadata": {
        "id": "XWkqjOIYyAkc"
      },
      "outputs": [],
      "source": [
        "# example usage of the LPIPS loss\n",
        "from deepul.hw3_utils.lpips import LPIPS\n",
        "loss = LPIPS()\n",
        "x = torch.zeros(4, 3, 32, 32)\n",
        "print(loss(x, x).mean())"
      ]
    },
    {
      "cell_type": "code",
      "execution_count": null,
      "metadata": {
        "id": "AaDfWb4zyAkc"
      },
      "outputs": [],
      "source": [
        "def q3a(train_data, val_data, reconstruct_data):\n",
        "    \"\"\"\n",
        "    train_data: An (n_train, 3, 32, 32) numpy array of CIFAR-10 images with values in [0, 1]\n",
        "    val_data: An (n_train, 3, 32, 32) numpy array of CIFAR-10 images with values in [0, 1]\n",
        "    reconstruct_data: An (100, 3, 32, 32) numpy array of CIFAR-10 images with values in [0, 1]. To be used for reconstruction\n",
        "\n",
        "    Returns\n",
        "    - a (# of training iterations,) numpy array of the discriminator train losses evaluated every minibatch\n",
        "    - None or a (# of training iterations,) numpy array of the perceptual train losses evaluated every minibatch\n",
        "    - a (# of training iterations,) numpy array of the l2 reconstruction evaluated every minibatch\n",
        "    - a (# of epochs + 1,) numpy array of l2 reconstruction loss evaluated once at initialization and after each epoch on the val_data\n",
        "    - a (100, 32, 32, 3) numpy array of reconstructions from your model in [0, 1] on the reconstruct_data.\n",
        "    \"\"\"\n",
        "\n",
        "    \"\"\" YOUR CODE HERE \"\"\"\n",
        "\n",
        "    return discriminator_losses, l_pips_losses, l2_recon_train, l2_recon_test, reconstructions"
      ]
    },
    {
      "cell_type": "code",
      "execution_count": null,
      "metadata": {
        "id": "4NLhCRijyAkc"
      },
      "outputs": [],
      "source": [
        "q3_save_results(q3a, \"a\") # with pips"
      ]
    },
    {
      "cell_type": "markdown",
      "metadata": {
        "id": "Csipd9AWyAkc"
      },
      "source": [
        "## Part b: VIT-VQGAN [15]\n",
        "In this part, you will replace the encoder and decoder in the VQGAN with a Vision Transformer (ViT) following the [Improved VQGAN paper](https://arxiv.org/abs/2110.04627). You may use pre-built ViT modules and/or transformers libraries for the purposes of this exercise. Split images into 4x4 patches which should give you 8x8 patches for each image.\n",
        "\n",
        "**Discriminator**\n",
        "In ViT-VQGAN, the patch-based discriminator is replaced with a full StyleGAN discriminator. For the purposes of this exercise, you should use the same discrimiator as described in part a but without splitting into patches. In addition add [spectral normalization](https://pytorch.org/docs/stable/generated/torch.nn.utils.spectral_norm.html#torch-nn-utils-spectral-norm) to all the conv and linear layers and use LeakyReLU instead of ReLU, following [SN-GANs](https://arxiv.org/abs/1802.05957). This is to help with training stability.\n",
        "```\n",
        "def Discriminator(*, n_filters=128):\n",
        "    # all conv layers in the ResBlocks should have spectral normalization\n",
        "    ResnetBlockDown(3, n_filters=n_filters),\n",
        "    ResnetBlockDown(128, n_filters=n_filters),\n",
        "    ResBlock(n_filters, n_filters=n_filters),\n",
        "    ResBlock(n_filters, n_filters=n_filters),\n",
        "    nn.LeakyReLU()\n",
        "    global sum pooling\n",
        "    nn.Linear(128, 1)\n",
        "```\n",
        "* in addition add\n",
        "\n",
        "**Loss function**\n",
        "$L = L_{VQ} + 0.1 L_{GAN} + \\alpha L_{perceptual} + L_2 + 0.1 L_1$\n",
        "\n",
        "The ViT-VQGAN paper introduces a new loss term $L_{Logit\\_laplace}$ which is a logit laplace loss. For simplicity, we will use an L1 loss instead.\n",
        "\n",
        "If you implemented the perceptual loss in the previous part, you can use the same perceptual loss here, otherwise you may keep $\\alpha = 0$.\n",
        "\n",
        "\n",
        "You should be able to largely be able to reuse your implementations in the previous part for this problem\n",
        "The only 3 updates you need are:\n",
        "* use ViT for encoder and decoder of VQVAE, use 4 layers, 8 heads, and 256 for the embedding size\n",
        "* add L1 loss\n",
        "* change the discrimiator to look at the full image\n",
        "\n",
        "**You will provide the following deliverables**\n",
        "1. Final L2 reconstruction loss\n",
        "2. Discriminator loss across training\n",
        "3. $L_{perceptual}$ loss across training\n",
        "4. Training l2 loss across training\n",
        "5. Validation l2 reconstruction loss across training, evaluated at the end of every epoch\n",
        "6. 100 reconstructions of the validation set.\n"
      ]
    },
    {
      "cell_type": "code",
      "execution_count": null,
      "metadata": {
        "id": "Dtolo2KvyAkc"
      },
      "outputs": [],
      "source": [
        "def q3b(train_data, val_data, reconstruct_data):\n",
        "    \"\"\"\n",
        "    train_data: An (n_train, 3, 32, 32) numpy array of CIFAR-10 images with values in [0, 1]\n",
        "    val_data: An (n_train, 3, 32, 32) numpy array of CIFAR-10 images with values in [0, 1]\n",
        "    reconstruct_data: An (100, 3, 32, 32) numpy array of CIFAR-10 images with values in [0, 1]. To be used for reconstruction\n",
        "\n",
        "    Returns\n",
        "    - a (# of training iterations,) numpy array of the discriminator train losses evaluated every minibatch\n",
        "    - None or a (# of training iterations,) numpy array of the perceptual train losses evaluated every minibatch\n",
        "    - a (# of training iterations,) numpy array of the l2 reconstruction evaluated every minibatch\n",
        "    - a (# of epochs + 1,) numpy array of l2 reconstruction loss evaluated once at initialization and after each epoch on the val_data\n",
        "    - a (100, 32, 32, 3) numpy array of reconstructions from your model in [0, 1] on the reconstruct_data.\n",
        "    \"\"\"\n",
        "\n",
        "    \"\"\" YOUR CODE HERE \"\"\"\n",
        "\n",
        "    return discriminator_losses, l_pips_losses, l2_recon_train, l2_recon_test, reconstructions"
      ]
    },
    {
      "cell_type": "code",
      "execution_count": null,
      "metadata": {
        "id": "sv91esWayAkc"
      },
      "outputs": [],
      "source": [
        "q3_save_results(q3b, \"b\")"
      ]
    },
    {
      "cell_type": "markdown",
      "metadata": {
        "id": "92f0jUFadqml"
      },
      "source": [
        "# Question 4 (Bonus): CycleGAN [20pt]\n",
        "In this question, you'll train a CycleGAN model to learn to translate between two different image domains, without any paired data. Execute the following cell to visualize our two datasets: MNIST and Colored MNIST."
      ]
    },
    {
      "cell_type": "code",
      "execution_count": null,
      "metadata": {
        "id": "Y3qFm_JfObPj"
      },
      "outputs": [],
      "source": [
        "visualize_cyclegan_datasets()"
      ]
    },
    {
      "cell_type": "markdown",
      "metadata": {
        "id": "0Za8w7ddOdh7"
      },
      "source": [
        "In [CycleGAN](https://arxiv.org/pdf/1703.10593.pdf), the goal is to learn functions $F$ and $G$ that can transform images from $X \\rightarrow Y$ and vice-versa. This is an unconstrained problem, so we additionally enforce the *cycle-consistency* property, where we want\n",
        "$$x \\approx G(F(x))$$\n",
        "and  \n",
        "$$y \\approx F(G(x))$$\n",
        "This loss function encourages $F$ and $G$ to approximately invert each other. In addition to this cycle-consistency loss, we also have a standard GAN loss such that $F(x)$ and $G(y)$ look like real images from the other domain.\n",
        "\n",
        "Since this is a bonus question, we won't do much hand-holding. We recommend reading through the original paper to get a sense of what architectures and hyperparameters are useful. Note that our datasets are fairly simple, so you won't need excessively large models.\n",
        "\n",
        "**You will report the following deliverables**\n",
        "1. A set of images showing real MNIST digits, transformations of those images into Colored MNIST digits, and reconstructions back into the greyscale domain.\n",
        "2. A set of images showing real Colored MNIST digits, transformations of those images, and reconstructions."
      ]
    },
    {
      "cell_type": "markdown",
      "metadata": {
        "id": "8adRfm9vPnen"
      },
      "source": [
        "## Solution"
      ]
    },
    {
      "cell_type": "code",
      "execution_count": null,
      "metadata": {
        "id": "B99F5FjbPqtl"
      },
      "outputs": [],
      "source": [
        "def q4(mnist_data, cmnist_data):\n",
        "    \"\"\"\n",
        "    mnist_data: An (60000, 1, 28, 28) numpy array of black and white images with values in [0, 1]\n",
        "    cmnist_data: An (60000, 3, 28, 28) numpy array of colored images with values in [0, 1]\n",
        "\n",
        "    Returns\n",
        "    - a (20, 28, 28, 1) numpy array of real MNIST digits, in [0, 1]\n",
        "    - a (20, 28, 28, 3) numpy array of translated Colored MNIST digits, in [0, 1]\n",
        "    - a (20, 28, 28, 1) numpy array of reconstructed MNIST digits, in [0, 1]\n",
        "\n",
        "    - a (20, 28, 28, 3) numpy array of real Colored MNIST digits, in [0, 1]\n",
        "    - a (20, 28, 28, 1) numpy array of translated MNIST digits, in [0, 1]\n",
        "    - a (20, 28, 28, 3) numpy array of reconstructed Colored MNIST digits, in [0, 1]\n",
        "    \"\"\"\n",
        "    \"\"\" YOUR CODE HERE \"\"\""
      ]
    },
    {
      "cell_type": "markdown",
      "metadata": {
        "id": "NIO0hzZ8PpPr"
      },
      "source": [
        "## Results"
      ]
    },
    {
      "cell_type": "code",
      "execution_count": null,
      "metadata": {
        "id": "-hlvbDvUOxp6"
      },
      "outputs": [],
      "source": [
        "q4_save_results(q4)"
      ]
    }
  ],
  "metadata": {
    "accelerator": "GPU",
    "colab": {
      "provenance": [],
      "collapsed_sections": [
        "sBESzChmEfcF",
        "K4m4QlhByAkb",
        "92f0jUFadqml"
      ],
      "include_colab_link": true
    },
    "kernelspec": {
      "display_name": "Python 3 (ipykernel)",
      "language": "python",
      "name": "python3"
    },
    "language_info": {
      "codemirror_mode": {
        "name": "ipython",
        "version": 3
      },
      "file_extension": ".py",
      "mimetype": "text/x-python",
      "name": "python",
      "nbconvert_exporter": "python",
      "pygments_lexer": "ipython3",
      "version": "3.11.7"
    },
    "widgets": {
      "application/vnd.jupyter.widget-state+json": {
        "e9d16fa1022047a5a9028303948c0ff5": {
          "model_module": "@jupyter-widgets/controls",
          "model_name": "HBoxModel",
          "model_module_version": "1.5.0",
          "state": {
            "_dom_classes": [],
            "_model_module": "@jupyter-widgets/controls",
            "_model_module_version": "1.5.0",
            "_model_name": "HBoxModel",
            "_view_count": null,
            "_view_module": "@jupyter-widgets/controls",
            "_view_module_version": "1.5.0",
            "_view_name": "HBoxView",
            "box_style": "",
            "children": [
              "IPY_MODEL_98afa3f18d814812b91fee554d3cf4e1",
              "IPY_MODEL_99f746f0f2eb4ec39175bb4f57c6b38c",
              "IPY_MODEL_9dd3e4b68c5d4fa898c6ea065d022fe3"
            ],
            "layout": "IPY_MODEL_da11c4c47592430d94a79b84059bf7cf"
          }
        },
        "98afa3f18d814812b91fee554d3cf4e1": {
          "model_module": "@jupyter-widgets/controls",
          "model_name": "HTMLModel",
          "model_module_version": "1.5.0",
          "state": {
            "_dom_classes": [],
            "_model_module": "@jupyter-widgets/controls",
            "_model_module_version": "1.5.0",
            "_model_name": "HTMLModel",
            "_view_count": null,
            "_view_module": "@jupyter-widgets/controls",
            "_view_module_version": "1.5.0",
            "_view_name": "HTMLView",
            "description": "",
            "description_tooltip": null,
            "layout": "IPY_MODEL_5e69cb7f7854443ab3b1344d25b151c6",
            "placeholder": "​",
            "style": "IPY_MODEL_1cc1b98449a746d794568f85a9c57784",
            "value": "Epoch: 100%"
          }
        },
        "99f746f0f2eb4ec39175bb4f57c6b38c": {
          "model_module": "@jupyter-widgets/controls",
          "model_name": "FloatProgressModel",
          "model_module_version": "1.5.0",
          "state": {
            "_dom_classes": [],
            "_model_module": "@jupyter-widgets/controls",
            "_model_module_version": "1.5.0",
            "_model_name": "FloatProgressModel",
            "_view_count": null,
            "_view_module": "@jupyter-widgets/controls",
            "_view_module_version": "1.5.0",
            "_view_name": "ProgressView",
            "bar_style": "",
            "description": "",
            "description_tooltip": null,
            "layout": "IPY_MODEL_5d61fcbb58034b2bab8b1e226954b13d",
            "max": 10,
            "min": 0,
            "orientation": "horizontal",
            "style": "IPY_MODEL_e20fd17bb59d4dd38b8260a7da9f890c",
            "value": 10
          }
        },
        "9dd3e4b68c5d4fa898c6ea065d022fe3": {
          "model_module": "@jupyter-widgets/controls",
          "model_name": "HTMLModel",
          "model_module_version": "1.5.0",
          "state": {
            "_dom_classes": [],
            "_model_module": "@jupyter-widgets/controls",
            "_model_module_version": "1.5.0",
            "_model_name": "HTMLModel",
            "_view_count": null,
            "_view_module": "@jupyter-widgets/controls",
            "_view_module_version": "1.5.0",
            "_view_name": "HTMLView",
            "description": "",
            "description_tooltip": null,
            "layout": "IPY_MODEL_49bf327dbfb34a0fbb449b20c6a7617d",
            "placeholder": "​",
            "style": "IPY_MODEL_f9e8d21fed3f45a1a90e6e7a54fc49fe",
            "value": " 10/10 [00:16&lt;00:00,  1.66s/it]"
          }
        },
        "da11c4c47592430d94a79b84059bf7cf": {
          "model_module": "@jupyter-widgets/base",
          "model_name": "LayoutModel",
          "model_module_version": "1.2.0",
          "state": {
            "_model_module": "@jupyter-widgets/base",
            "_model_module_version": "1.2.0",
            "_model_name": "LayoutModel",
            "_view_count": null,
            "_view_module": "@jupyter-widgets/base",
            "_view_module_version": "1.2.0",
            "_view_name": "LayoutView",
            "align_content": null,
            "align_items": null,
            "align_self": null,
            "border": null,
            "bottom": null,
            "display": null,
            "flex": null,
            "flex_flow": null,
            "grid_area": null,
            "grid_auto_columns": null,
            "grid_auto_flow": null,
            "grid_auto_rows": null,
            "grid_column": null,
            "grid_gap": null,
            "grid_row": null,
            "grid_template_areas": null,
            "grid_template_columns": null,
            "grid_template_rows": null,
            "height": null,
            "justify_content": null,
            "justify_items": null,
            "left": null,
            "margin": null,
            "max_height": null,
            "max_width": null,
            "min_height": null,
            "min_width": null,
            "object_fit": null,
            "object_position": null,
            "order": null,
            "overflow": null,
            "overflow_x": null,
            "overflow_y": null,
            "padding": null,
            "right": null,
            "top": null,
            "visibility": "hidden",
            "width": null
          }
        },
        "5e69cb7f7854443ab3b1344d25b151c6": {
          "model_module": "@jupyter-widgets/base",
          "model_name": "LayoutModel",
          "model_module_version": "1.2.0",
          "state": {
            "_model_module": "@jupyter-widgets/base",
            "_model_module_version": "1.2.0",
            "_model_name": "LayoutModel",
            "_view_count": null,
            "_view_module": "@jupyter-widgets/base",
            "_view_module_version": "1.2.0",
            "_view_name": "LayoutView",
            "align_content": null,
            "align_items": null,
            "align_self": null,
            "border": null,
            "bottom": null,
            "display": null,
            "flex": null,
            "flex_flow": null,
            "grid_area": null,
            "grid_auto_columns": null,
            "grid_auto_flow": null,
            "grid_auto_rows": null,
            "grid_column": null,
            "grid_gap": null,
            "grid_row": null,
            "grid_template_areas": null,
            "grid_template_columns": null,
            "grid_template_rows": null,
            "height": null,
            "justify_content": null,
            "justify_items": null,
            "left": null,
            "margin": null,
            "max_height": null,
            "max_width": null,
            "min_height": null,
            "min_width": null,
            "object_fit": null,
            "object_position": null,
            "order": null,
            "overflow": null,
            "overflow_x": null,
            "overflow_y": null,
            "padding": null,
            "right": null,
            "top": null,
            "visibility": null,
            "width": null
          }
        },
        "1cc1b98449a746d794568f85a9c57784": {
          "model_module": "@jupyter-widgets/controls",
          "model_name": "DescriptionStyleModel",
          "model_module_version": "1.5.0",
          "state": {
            "_model_module": "@jupyter-widgets/controls",
            "_model_module_version": "1.5.0",
            "_model_name": "DescriptionStyleModel",
            "_view_count": null,
            "_view_module": "@jupyter-widgets/base",
            "_view_module_version": "1.2.0",
            "_view_name": "StyleView",
            "description_width": ""
          }
        },
        "5d61fcbb58034b2bab8b1e226954b13d": {
          "model_module": "@jupyter-widgets/base",
          "model_name": "LayoutModel",
          "model_module_version": "1.2.0",
          "state": {
            "_model_module": "@jupyter-widgets/base",
            "_model_module_version": "1.2.0",
            "_model_name": "LayoutModel",
            "_view_count": null,
            "_view_module": "@jupyter-widgets/base",
            "_view_module_version": "1.2.0",
            "_view_name": "LayoutView",
            "align_content": null,
            "align_items": null,
            "align_self": null,
            "border": null,
            "bottom": null,
            "display": null,
            "flex": null,
            "flex_flow": null,
            "grid_area": null,
            "grid_auto_columns": null,
            "grid_auto_flow": null,
            "grid_auto_rows": null,
            "grid_column": null,
            "grid_gap": null,
            "grid_row": null,
            "grid_template_areas": null,
            "grid_template_columns": null,
            "grid_template_rows": null,
            "height": null,
            "justify_content": null,
            "justify_items": null,
            "left": null,
            "margin": null,
            "max_height": null,
            "max_width": null,
            "min_height": null,
            "min_width": null,
            "object_fit": null,
            "object_position": null,
            "order": null,
            "overflow": null,
            "overflow_x": null,
            "overflow_y": null,
            "padding": null,
            "right": null,
            "top": null,
            "visibility": null,
            "width": null
          }
        },
        "e20fd17bb59d4dd38b8260a7da9f890c": {
          "model_module": "@jupyter-widgets/controls",
          "model_name": "ProgressStyleModel",
          "model_module_version": "1.5.0",
          "state": {
            "_model_module": "@jupyter-widgets/controls",
            "_model_module_version": "1.5.0",
            "_model_name": "ProgressStyleModel",
            "_view_count": null,
            "_view_module": "@jupyter-widgets/base",
            "_view_module_version": "1.2.0",
            "_view_name": "StyleView",
            "bar_color": null,
            "description_width": ""
          }
        },
        "49bf327dbfb34a0fbb449b20c6a7617d": {
          "model_module": "@jupyter-widgets/base",
          "model_name": "LayoutModel",
          "model_module_version": "1.2.0",
          "state": {
            "_model_module": "@jupyter-widgets/base",
            "_model_module_version": "1.2.0",
            "_model_name": "LayoutModel",
            "_view_count": null,
            "_view_module": "@jupyter-widgets/base",
            "_view_module_version": "1.2.0",
            "_view_name": "LayoutView",
            "align_content": null,
            "align_items": null,
            "align_self": null,
            "border": null,
            "bottom": null,
            "display": null,
            "flex": null,
            "flex_flow": null,
            "grid_area": null,
            "grid_auto_columns": null,
            "grid_auto_flow": null,
            "grid_auto_rows": null,
            "grid_column": null,
            "grid_gap": null,
            "grid_row": null,
            "grid_template_areas": null,
            "grid_template_columns": null,
            "grid_template_rows": null,
            "height": null,
            "justify_content": null,
            "justify_items": null,
            "left": null,
            "margin": null,
            "max_height": null,
            "max_width": null,
            "min_height": null,
            "min_width": null,
            "object_fit": null,
            "object_position": null,
            "order": null,
            "overflow": null,
            "overflow_x": null,
            "overflow_y": null,
            "padding": null,
            "right": null,
            "top": null,
            "visibility": null,
            "width": null
          }
        },
        "f9e8d21fed3f45a1a90e6e7a54fc49fe": {
          "model_module": "@jupyter-widgets/controls",
          "model_name": "DescriptionStyleModel",
          "model_module_version": "1.5.0",
          "state": {
            "_model_module": "@jupyter-widgets/controls",
            "_model_module_version": "1.5.0",
            "_model_name": "DescriptionStyleModel",
            "_view_count": null,
            "_view_module": "@jupyter-widgets/base",
            "_view_module_version": "1.2.0",
            "_view_name": "StyleView",
            "description_width": ""
          }
        },
        "d3f3d8a37c6c4f32b2f27eba902817af": {
          "model_module": "@jupyter-widgets/controls",
          "model_name": "HBoxModel",
          "model_module_version": "1.5.0",
          "state": {
            "_dom_classes": [],
            "_model_module": "@jupyter-widgets/controls",
            "_model_module_version": "1.5.0",
            "_model_name": "HBoxModel",
            "_view_count": null,
            "_view_module": "@jupyter-widgets/controls",
            "_view_module_version": "1.5.0",
            "_view_name": "HBoxView",
            "box_style": "",
            "children": [
              "IPY_MODEL_9cab909c33e34bb4b08a9585c18802e8",
              "IPY_MODEL_a12f52e5469b4e6fb6d84856cc298982",
              "IPY_MODEL_7404e72f830e4e38b8520270221f9c83"
            ],
            "layout": "IPY_MODEL_cb54a519d2a441afa645cfee5387efe7"
          }
        },
        "9cab909c33e34bb4b08a9585c18802e8": {
          "model_module": "@jupyter-widgets/controls",
          "model_name": "HTMLModel",
          "model_module_version": "1.5.0",
          "state": {
            "_dom_classes": [],
            "_model_module": "@jupyter-widgets/controls",
            "_model_module_version": "1.5.0",
            "_model_name": "HTMLModel",
            "_view_count": null,
            "_view_module": "@jupyter-widgets/controls",
            "_view_module_version": "1.5.0",
            "_view_name": "HTMLView",
            "description": "",
            "description_tooltip": null,
            "layout": "IPY_MODEL_a355d9b6595b4dd4b0a378163eb58bac",
            "placeholder": "​",
            "style": "IPY_MODEL_4539f970b5c04d409a8eeb02fa1b1565",
            "value": "Epoch: 100%"
          }
        },
        "a12f52e5469b4e6fb6d84856cc298982": {
          "model_module": "@jupyter-widgets/controls",
          "model_name": "FloatProgressModel",
          "model_module_version": "1.5.0",
          "state": {
            "_dom_classes": [],
            "_model_module": "@jupyter-widgets/controls",
            "_model_module_version": "1.5.0",
            "_model_name": "FloatProgressModel",
            "_view_count": null,
            "_view_module": "@jupyter-widgets/controls",
            "_view_module_version": "1.5.0",
            "_view_name": "ProgressView",
            "bar_style": "",
            "description": "",
            "description_tooltip": null,
            "layout": "IPY_MODEL_11630ef8a0554669a86dbf411917bd25",
            "max": 25,
            "min": 0,
            "orientation": "horizontal",
            "style": "IPY_MODEL_fd67a3cdab69416dad48effa491163eb",
            "value": 25
          }
        },
        "7404e72f830e4e38b8520270221f9c83": {
          "model_module": "@jupyter-widgets/controls",
          "model_name": "HTMLModel",
          "model_module_version": "1.5.0",
          "state": {
            "_dom_classes": [],
            "_model_module": "@jupyter-widgets/controls",
            "_model_module_version": "1.5.0",
            "_model_name": "HTMLModel",
            "_view_count": null,
            "_view_module": "@jupyter-widgets/controls",
            "_view_module_version": "1.5.0",
            "_view_name": "HTMLView",
            "description": "",
            "description_tooltip": null,
            "layout": "IPY_MODEL_48ecfa2388c24e9e9379c3aaee4af748",
            "placeholder": "​",
            "style": "IPY_MODEL_c41b8a127e1c4d01949096568f3fc1c9",
            "value": " 25/25 [00:50&lt;00:00,  1.70s/it]"
          }
        },
        "cb54a519d2a441afa645cfee5387efe7": {
          "model_module": "@jupyter-widgets/base",
          "model_name": "LayoutModel",
          "model_module_version": "1.2.0",
          "state": {
            "_model_module": "@jupyter-widgets/base",
            "_model_module_version": "1.2.0",
            "_model_name": "LayoutModel",
            "_view_count": null,
            "_view_module": "@jupyter-widgets/base",
            "_view_module_version": "1.2.0",
            "_view_name": "LayoutView",
            "align_content": null,
            "align_items": null,
            "align_self": null,
            "border": null,
            "bottom": null,
            "display": null,
            "flex": null,
            "flex_flow": null,
            "grid_area": null,
            "grid_auto_columns": null,
            "grid_auto_flow": null,
            "grid_auto_rows": null,
            "grid_column": null,
            "grid_gap": null,
            "grid_row": null,
            "grid_template_areas": null,
            "grid_template_columns": null,
            "grid_template_rows": null,
            "height": null,
            "justify_content": null,
            "justify_items": null,
            "left": null,
            "margin": null,
            "max_height": null,
            "max_width": null,
            "min_height": null,
            "min_width": null,
            "object_fit": null,
            "object_position": null,
            "order": null,
            "overflow": null,
            "overflow_x": null,
            "overflow_y": null,
            "padding": null,
            "right": null,
            "top": null,
            "visibility": "hidden",
            "width": null
          }
        },
        "a355d9b6595b4dd4b0a378163eb58bac": {
          "model_module": "@jupyter-widgets/base",
          "model_name": "LayoutModel",
          "model_module_version": "1.2.0",
          "state": {
            "_model_module": "@jupyter-widgets/base",
            "_model_module_version": "1.2.0",
            "_model_name": "LayoutModel",
            "_view_count": null,
            "_view_module": "@jupyter-widgets/base",
            "_view_module_version": "1.2.0",
            "_view_name": "LayoutView",
            "align_content": null,
            "align_items": null,
            "align_self": null,
            "border": null,
            "bottom": null,
            "display": null,
            "flex": null,
            "flex_flow": null,
            "grid_area": null,
            "grid_auto_columns": null,
            "grid_auto_flow": null,
            "grid_auto_rows": null,
            "grid_column": null,
            "grid_gap": null,
            "grid_row": null,
            "grid_template_areas": null,
            "grid_template_columns": null,
            "grid_template_rows": null,
            "height": null,
            "justify_content": null,
            "justify_items": null,
            "left": null,
            "margin": null,
            "max_height": null,
            "max_width": null,
            "min_height": null,
            "min_width": null,
            "object_fit": null,
            "object_position": null,
            "order": null,
            "overflow": null,
            "overflow_x": null,
            "overflow_y": null,
            "padding": null,
            "right": null,
            "top": null,
            "visibility": null,
            "width": null
          }
        },
        "4539f970b5c04d409a8eeb02fa1b1565": {
          "model_module": "@jupyter-widgets/controls",
          "model_name": "DescriptionStyleModel",
          "model_module_version": "1.5.0",
          "state": {
            "_model_module": "@jupyter-widgets/controls",
            "_model_module_version": "1.5.0",
            "_model_name": "DescriptionStyleModel",
            "_view_count": null,
            "_view_module": "@jupyter-widgets/base",
            "_view_module_version": "1.2.0",
            "_view_name": "StyleView",
            "description_width": ""
          }
        },
        "11630ef8a0554669a86dbf411917bd25": {
          "model_module": "@jupyter-widgets/base",
          "model_name": "LayoutModel",
          "model_module_version": "1.2.0",
          "state": {
            "_model_module": "@jupyter-widgets/base",
            "_model_module_version": "1.2.0",
            "_model_name": "LayoutModel",
            "_view_count": null,
            "_view_module": "@jupyter-widgets/base",
            "_view_module_version": "1.2.0",
            "_view_name": "LayoutView",
            "align_content": null,
            "align_items": null,
            "align_self": null,
            "border": null,
            "bottom": null,
            "display": null,
            "flex": null,
            "flex_flow": null,
            "grid_area": null,
            "grid_auto_columns": null,
            "grid_auto_flow": null,
            "grid_auto_rows": null,
            "grid_column": null,
            "grid_gap": null,
            "grid_row": null,
            "grid_template_areas": null,
            "grid_template_columns": null,
            "grid_template_rows": null,
            "height": null,
            "justify_content": null,
            "justify_items": null,
            "left": null,
            "margin": null,
            "max_height": null,
            "max_width": null,
            "min_height": null,
            "min_width": null,
            "object_fit": null,
            "object_position": null,
            "order": null,
            "overflow": null,
            "overflow_x": null,
            "overflow_y": null,
            "padding": null,
            "right": null,
            "top": null,
            "visibility": null,
            "width": null
          }
        },
        "fd67a3cdab69416dad48effa491163eb": {
          "model_module": "@jupyter-widgets/controls",
          "model_name": "ProgressStyleModel",
          "model_module_version": "1.5.0",
          "state": {
            "_model_module": "@jupyter-widgets/controls",
            "_model_module_version": "1.5.0",
            "_model_name": "ProgressStyleModel",
            "_view_count": null,
            "_view_module": "@jupyter-widgets/base",
            "_view_module_version": "1.2.0",
            "_view_name": "StyleView",
            "bar_color": null,
            "description_width": ""
          }
        },
        "48ecfa2388c24e9e9379c3aaee4af748": {
          "model_module": "@jupyter-widgets/base",
          "model_name": "LayoutModel",
          "model_module_version": "1.2.0",
          "state": {
            "_model_module": "@jupyter-widgets/base",
            "_model_module_version": "1.2.0",
            "_model_name": "LayoutModel",
            "_view_count": null,
            "_view_module": "@jupyter-widgets/base",
            "_view_module_version": "1.2.0",
            "_view_name": "LayoutView",
            "align_content": null,
            "align_items": null,
            "align_self": null,
            "border": null,
            "bottom": null,
            "display": null,
            "flex": null,
            "flex_flow": null,
            "grid_area": null,
            "grid_auto_columns": null,
            "grid_auto_flow": null,
            "grid_auto_rows": null,
            "grid_column": null,
            "grid_gap": null,
            "grid_row": null,
            "grid_template_areas": null,
            "grid_template_columns": null,
            "grid_template_rows": null,
            "height": null,
            "justify_content": null,
            "justify_items": null,
            "left": null,
            "margin": null,
            "max_height": null,
            "max_width": null,
            "min_height": null,
            "min_width": null,
            "object_fit": null,
            "object_position": null,
            "order": null,
            "overflow": null,
            "overflow_x": null,
            "overflow_y": null,
            "padding": null,
            "right": null,
            "top": null,
            "visibility": null,
            "width": null
          }
        },
        "c41b8a127e1c4d01949096568f3fc1c9": {
          "model_module": "@jupyter-widgets/controls",
          "model_name": "DescriptionStyleModel",
          "model_module_version": "1.5.0",
          "state": {
            "_model_module": "@jupyter-widgets/controls",
            "_model_module_version": "1.5.0",
            "_model_name": "DescriptionStyleModel",
            "_view_count": null,
            "_view_module": "@jupyter-widgets/base",
            "_view_module_version": "1.2.0",
            "_view_name": "StyleView",
            "description_width": ""
          }
        }
      }
    }
  },
  "nbformat": 4,
  "nbformat_minor": 0
}